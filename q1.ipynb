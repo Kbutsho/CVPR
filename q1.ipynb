{
 "cells": [
  {
   "cell_type": "code",
   "execution_count": 14,
   "id": "6cbe0827",
   "metadata": {},
   "outputs": [
    {
     "name": "stdout",
     "output_type": "stream",
     "text": [
      "Spiral 3x3:\n"
     ]
    },
    {
     "data": {
      "text/plain": [
       "[[0, 0], [1, 0], [1, 1], [0, 1], [-1, 1], [-1, 0], [-1, -1], [0, -1], [1, -1]]"
      ]
     },
     "execution_count": 14,
     "metadata": {},
     "output_type": "execute_result"
    }
   ],
   "source": [
    "def spiral(P, Q):\n",
    "        x,y = 0,0   \n",
    "        dx, dy = 0, -1\n",
    "\n",
    "        for dumb in range(P*Q):\n",
    "            if abs(x) == abs(y) and [dx,dy] != [1,0] or x>0 and y == 1-x:  \n",
    "                dx, dy = -dy, dx           \n",
    "            if abs(x)>P/2 or abs(y)>Q/2:    \n",
    "                dx, dy = -dy, dx            \n",
    "                x, y = -y+dx, x+dy         \n",
    "            yield x, y\n",
    "            x, y = x+dx, y+dy\n",
    "print('Spiral 3x3:')\n",
    "SPIRAL=[]\n",
    "for a,b in spiral(3,3):\n",
    "    SPIRAL.append([a,b])\n",
    "        \n",
    "SPIRAL"
   ]
  },
  {
   "cell_type": "code",
   "execution_count": null,
   "id": "5d37b3cf",
   "metadata": {},
   "outputs": [],
   "source": []
  }
 ],
 "metadata": {
  "kernelspec": {
   "display_name": "Python 3 (ipykernel)",
   "language": "python",
   "name": "python3"
  },
  "language_info": {
   "codemirror_mode": {
    "name": "ipython",
    "version": 3
   },
   "file_extension": ".py",
   "mimetype": "text/x-python",
   "name": "python",
   "nbconvert_exporter": "python",
   "pygments_lexer": "ipython3",
   "version": "3.9.7"
  }
 },
 "nbformat": 4,
 "nbformat_minor": 5
}
